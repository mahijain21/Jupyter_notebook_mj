{
 "cells": [
  {
   "cell_type": "markdown",
   "id": "0435b392-88a9-48b2-843f-548b49e2eac1",
   "metadata": {},
   "source": [
    "Data Science Tools and Ecosystem\n"
   ]
  },
  {
   "cell_type": "code",
   "execution_count": 1,
   "id": "0a09da83-4382-4fdc-8893-601b2fa0dd51",
   "metadata": {
    "tags": []
   },
   "outputs": [
    {
     "ename": "SyntaxError",
     "evalue": "invalid syntax (356759017.py, line 1)",
     "output_type": "error",
     "traceback": [
      "\u001b[0;36m  File \u001b[0;32m\"/tmp/ipykernel_352/356759017.py\"\u001b[0;36m, line \u001b[0;32m1\u001b[0m\n\u001b[0;31m    In this notebook, Data Science Tools and Ecosystem are summarized.\u001b[0m\n\u001b[0m          ^\u001b[0m\n\u001b[0;31mSyntaxError\u001b[0m\u001b[0;31m:\u001b[0m invalid syntax\n"
     ]
    }
   ],
   "source": [
    "In this notebook, Data Science Tools and Ecosystem are summarized."
   ]
  },
  {
   "cell_type": "markdown",
   "id": "6043d91e-e4c7-4b3c-9a33-f22bec3b3e40",
   "metadata": {},
   "source": [
    "In this notebook, Data Science Tools and Ecosystem are summarized."
   ]
  },
  {
   "cell_type": "markdown",
   "id": "59af3495-b436-4ce1-95a9-88364cf660b9",
   "metadata": {},
   "source": [
    "Some of the popular languages that Data Scientists use are:\n",
    "1.python\n",
    "2.R\n",
    "3.java"
   ]
  },
  {
   "cell_type": "markdown",
   "id": "727840a2-8507-42b6-a4af-cdba12c85187",
   "metadata": {},
   "source": [
    "Some of the commonly used libraries used by Data Scientists include:\n",
    "1.Matpotlyb\n",
    "2.c make\n",
    "3.open cv"
   ]
  },
  {
   "cell_type": "markdown",
   "id": "7fc81301-068f-4753-9a81-f21e641643be",
   "metadata": {},
   "source": [
    "| Data Science Tools |\n",
    "|--------------------|\n",
    "| RStudio            |\n",
    "| Jupyter Notebook   |\n",
    "| Apache Zeppelin    |\n"
   ]
  },
  {
   "cell_type": "markdown",
   "id": "93490fa0-c0ff-42d4-93fa-15c9922f0ee3",
   "metadata": {},
   "source": [
    "### Below are a few examples of evaluating arithmetic expressions in Python"
   ]
  },
  {
   "cell_type": "code",
   "execution_count": 2,
   "id": "7a4ed7de-5840-4655-8e5d-5abb54390218",
   "metadata": {
    "tags": []
   },
   "outputs": [
    {
     "data": {
      "text/plain": [
       "17"
      ]
     },
     "execution_count": 2,
     "metadata": {},
     "output_type": "execute_result"
    }
   ],
   "source": [
    "#This a simple arithmetic expression to mutiply then add integers\n",
    "(3*4)+5"
   ]
  },
  {
   "cell_type": "code",
   "execution_count": 3,
   "id": "20a54e23-6395-4e93-bf0b-f0c34ec80760",
   "metadata": {
    "tags": []
   },
   "outputs": [
    {
     "data": {
      "text/plain": [
       "3.3333333333333335"
      ]
     },
     "execution_count": 3,
     "metadata": {},
     "output_type": "execute_result"
    }
   ],
   "source": [
    "#his will convert 200 minutes to hours by diving by 60\n",
    "200/60"
   ]
  },
  {
   "cell_type": "markdown",
   "id": "dc25ac03-f444-4fb6-a752-d2de0941497c",
   "metadata": {},
   "source": [
    "Objectives "
   ]
  },
  {
   "cell_type": "markdown",
   "id": "b122ee15-074a-4e97-89a6-39c723b159a8",
   "metadata": {},
   "source": [
    "## Notebook Topics\n",
    "\n",
    "- List popular languages for Data Science.\n",
    "- Explain data cleaning techniques.\n",
    "- Discuss machine learning algorithms.\n",
    "- Explore visualization libraries.\n"
   ]
  },
  {
   "cell_type": "markdown",
   "id": "9a7ac334-1eb5-4023-b7e0-9e6573485ff7",
   "metadata": {},
   "source": [
    "## Author\n",
    "Mahi "
   ]
  },
  {
   "cell_type": "code",
   "execution_count": null,
   "id": "970ed30a-a7ef-4882-80b8-82c4bbcae737",
   "metadata": {},
   "outputs": [],
   "source": []
  }
 ],
 "metadata": {
  "kernelspec": {
   "display_name": "Python",
   "language": "python",
   "name": "conda-env-python-py"
  },
  "language_info": {
   "codemirror_mode": {
    "name": "ipython",
    "version": 3
   },
   "file_extension": ".py",
   "mimetype": "text/x-python",
   "name": "python",
   "nbconvert_exporter": "python",
   "pygments_lexer": "ipython3",
   "version": "3.7.12"
  }
 },
 "nbformat": 4,
 "nbformat_minor": 5
}
